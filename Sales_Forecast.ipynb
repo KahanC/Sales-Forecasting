{
 "cells": [
  {
   "cell_type": "code",
   "execution_count": null,
   "metadata": {
    "colab": {
     "base_uri": "https://localhost:8080/",
     "height": 1000
    },
    "executionInfo": {
     "elapsed": 5118,
     "status": "ok",
     "timestamp": 1740282489142,
     "user": {
      "displayName": "Kahan Choksi",
      "userId": "10809218217438173912"
     },
     "user_tz": 300
    },
    "id": "ercA2jsyvbhh",
    "outputId": "00b894e7-c4b0-4a5f-c422-f9a063bf7c22"
   },
   "outputs": [],
   "source": [
    "import pandas as pd\n",
    "import matplotlib.pyplot as plt\n",
    "import seaborn as sns\n",
    "import numpy as np\n",
    "import os\n",
    "from scipy.interpolate import make_interp_spline\n",
    "\n",
    "# Set Seaborn style\n",
    "sns.set_theme(style=\"darkgrid\")\n",
    "\n",
    "# Mount Google Drive\n",
    "from google.colab import drive\n",
    "drive.mount('/content/drive', force_remount=True)\n",
    "\n",
    "# Load dataset\n",
    "file_path = \"/content/drive/MyDrive/Graphing Data.csv\"\n",
    "df = pd.read_csv(file_path)\n",
    "\n",
    "# Rename columns\n",
    "df.rename(columns={'Dates': 'Date_WebSales', 'Dates.1': 'Date_DropShip', 'Dates.2': 'Date_USA',\n",
    "                   'Websales': 'WebSales', 'Dropship': 'DropShip'}, inplace=True)\n",
    "\n",
    "# Convert date columns\n",
    "df['Date_WebSales'] = pd.to_datetime(df['Date_WebSales'], errors='coerce')\n",
    "df['Date_DropShip'] = pd.to_datetime(df['Date_DropShip'], errors='coerce')\n",
    "df['Date_USA'] = pd.to_datetime(df['Date_USA'], errors='coerce')\n",
    "\n",
    "# Drop missing values\n",
    "df = df.dropna(subset=['Date_WebSales', 'Date_DropShip', 'Date_USA', 'WebSales', 'DropShip', 'USA'])\n",
    "\n",
    "# Melt DataFrame\n",
    "df_melted = pd.melt(df, id_vars=['Date_WebSales', 'Date_DropShip', 'Date_USA'],\n",
    "                     value_vars=['WebSales', 'DropShip', 'USA'],\n",
    "                     var_name='Category', value_name='Sales')\n",
    "\n",
    "# Assign correct date\n",
    "df_melted['Date'] = df_melted.apply(lambda row: row['Date_WebSales'] if row['Category'] == 'WebSales'\n",
    "                                    else (row['Date_DropShip'] if row['Category'] == 'DropShip'\n",
    "                                          else row['Date_USA']), axis=1)\n",
    "\n",
    "df_melted.drop(columns=['Date_WebSales', 'Date_DropShip', 'Date_USA'], inplace=True)\n",
    "\n",
    "# Extract day & year\n",
    "df_melted['Day'] = df_melted['Date'].dt.day\n",
    "df_melted['Year'] = df_melted['Date'].dt.year\n",
    "\n",
    "# Filter for November & December\n",
    "november_data = df_melted[df_melted['Date'].dt.month == 11]\n",
    "december_data = df_melted[df_melted['Date'].dt.month == 12]\n",
    "\n",
    "# Group by day, year, category\n",
    "november_grouped = november_data.groupby(['Day', 'Year', 'Category'])['Sales'].sum().unstack(level=[1, 2])\n",
    "december_grouped = december_data.groupby(['Day', 'Year', 'Category'])['Sales'].sum().unstack(level=[1, 2])\n",
    "\n",
    "# Forecast Calculation\n",
    "def calculate_forecast(data, category):\n",
    "    forecast_data = []\n",
    "    for day in range(1, 32):\n",
    "        daily_percentages = []\n",
    "        for year in [2022, 2023, 2024]:\n",
    "            try:\n",
    "                daily_sales = data.loc[day, (year, category)]\n",
    "                monthly_total = data.loc[:, (year, category)].sum()\n",
    "\n",
    "                if monthly_total > 0:\n",
    "                    daily_percentages.append(daily_sales / monthly_total)\n",
    "                else:\n",
    "                    daily_percentages.append(0)\n",
    "            except KeyError:\n",
    "                daily_percentages.append(np.nan)\n",
    "\n",
    "        forecast = np.nanmean(daily_percentages)\n",
    "\n",
    "        if np.isnan(forecast) or np.isinf(forecast):\n",
    "            forecast = 0\n",
    "\n",
    "        forecast_data.append(forecast)\n",
    "    return forecast_data\n",
    "\n",
    "# Create 6x2 subplot grid\n",
    "fig, axes = plt.subplots(nrows=6, ncols=2, figsize=(14, 25), sharex=False, sharey=False)\n",
    "\n",
    "# Function to plot sales trends\n",
    "def plot_sales_trend(ax, data, title, category, colors, add_dashed_lines=False):\n",
    "    if category in data.columns.levels[1]:\n",
    "        for year, color in zip([2022, 2023, 2024], colors):\n",
    "            if (year, category) in data.columns:\n",
    "                ax.plot(data.index, data[(year, category)], label=f'{year}', color=color, marker='o', linestyle='-')\n",
    "\n",
    "        if add_dashed_lines:\n",
    "            black_friday_dates = {2022: (25, 'green'), 2023: (24, 'red'), 2024: (29, 'blue')}\n",
    "            for year, (day, line_color) in black_friday_dates.items():\n",
    "                ax.axvline(x=day, color=line_color, linestyle='dashed', linewidth=1.5)\n",
    "\n",
    "        ax.set_title(title, fontsize=14, fontweight='bold')\n",
    "        ax.set_ylabel('Sales ($)', fontsize=12)\n",
    "        ax.legend(fontsize=10)\n",
    "        ax.set_xticks(range(1, 32))\n",
    "        ax.tick_params(axis='x')\n",
    "\n",
    "# Define colors\n",
    "colors = ['lightskyblue', 'lightcoral', 'mediumseagreen']\n",
    "\n",
    "# Order of plots: [WebSales -> WebSales Forecast], [DropShip -> DropShip Forecast], [USA -> USA Forecast]\n",
    "\n",
    "# WebSales\n",
    "plot_sales_trend(axes[0, 0], november_grouped, 'WebSales - November', 'WebSales', colors, add_dashed_lines=True)\n",
    "plot_sales_trend(axes[0, 1], december_grouped, 'WebSales - December', 'WebSales', colors, add_dashed_lines=False)\n",
    "\n",
    "# DropShip\n",
    "plot_sales_trend(axes[2, 0], november_grouped, 'DropShip - November', 'DropShip', colors, add_dashed_lines=True)\n",
    "plot_sales_trend(axes[2, 1], december_grouped, 'DropShip - December', 'DropShip', colors, add_dashed_lines=False)\n",
    "\n",
    "# USA Sales\n",
    "plot_sales_trend(axes[4, 0], november_grouped, 'USA Sales - November', 'USA', colors, add_dashed_lines=True)\n",
    "plot_sales_trend(axes[4, 1], december_grouped, 'USA Sales - December', 'USA', colors, add_dashed_lines=False)\n",
    "\n",
    "# Add Forecast Graphs Right Below Each Category\n",
    "for i, category in enumerate(['WebSales', 'DropShip', 'USA']):\n",
    "    nov_forecast = calculate_forecast(november_grouped, category)\n",
    "    dec_forecast = calculate_forecast(december_grouped, category)\n",
    "\n",
    "    # Create smooth curve\n",
    "    days = np.array(range(1, 32))\n",
    "    nov_forecast_smooth = make_interp_spline(days, nov_forecast, k=3)(days)\n",
    "    dec_forecast_smooth = make_interp_spline(days, dec_forecast, k=3)(days)\n",
    "\n",
    "    # Forecast plots (Directly below the corresponding sales plot)\n",
    "    axes[(i * 2) + 1, 0].plot(days, nov_forecast_smooth, label='2025 Forecast', color='black', linewidth=2)\n",
    "    axes[(i * 2) + 1, 1].plot(days, dec_forecast_smooth, label='2025 Forecast', color='black', linewidth=2)\n",
    "\n",
    "    axes[(i * 2) + 1, 0].set_title(f'Forecast - {category} (Nov)', fontsize=14, fontweight='bold')\n",
    "    axes[(i * 2) + 1, 1].set_title(f'Forecast - {category} (Dec)', fontsize=14, fontweight='bold')\n",
    "\n",
    "    axes[(i * 2) + 1, 0].legend(fontsize=10)\n",
    "    axes[(i * 2) + 1, 1].legend(fontsize=10)\n",
    "\n",
    "# Adjust layout\n",
    "plt.tight_layout(h_pad=2.5)\n",
    "plt.subplots_adjust(hspace=0.3)\n",
    "plt.show()"
   ]
  },
  {
   "cell_type": "code",
   "execution_count": null,
   "metadata": {
    "colab": {
     "base_uri": "https://localhost:8080/"
    },
    "executionInfo": {
     "elapsed": 3434,
     "status": "ok",
     "timestamp": 1740281637641,
     "user": {
      "displayName": "Kahan Choksi",
      "userId": "10809218217438173912"
     },
     "user_tz": 300
    },
    "id": "QPcDqWNb3ksQ",
    "outputId": "349e0ac1-776e-4b4b-ad09-6809d0911fd4"
   },
   "outputs": [],
   "source": [
    "!apt-get install git"
   ]
  },
  {
   "cell_type": "code",
   "execution_count": null,
   "metadata": {
    "executionInfo": {
     "elapsed": 204,
     "status": "ok",
     "timestamp": 1740281770386,
     "user": {
      "displayName": "Kahan Choksi",
      "userId": "10809218217438173912"
     },
     "user_tz": 300
    },
    "id": "rx6-jS8L3z9Y"
   },
   "outputs": [],
   "source": [
    "!git config --global user.name \"KahanC\"\n",
    "!git config --global user.email \"kjchoksi@uwaterloo.ca\""
   ]
  },
  {
   "cell_type": "code",
   "execution_count": null,
   "metadata": {
    "colab": {
     "base_uri": "https://localhost:8080/"
    },
    "executionInfo": {
     "elapsed": 105,
     "status": "ok",
     "timestamp": 1740281782430,
     "user": {
      "displayName": "Kahan Choksi",
      "userId": "10809218217438173912"
     },
     "user_tz": 300
    },
    "id": "qJxpWiai4IIM",
    "outputId": "194ae475-ae5f-4f21-b0b8-fda923fa53cc"
   },
   "outputs": [],
   "source": [
    "!git config --list"
   ]
  },
  {
   "cell_type": "code",
   "execution_count": null,
   "metadata": {
    "colab": {
     "base_uri": "https://localhost:8080/"
    },
    "executionInfo": {
     "elapsed": 607,
     "status": "ok",
     "timestamp": 1740281831467,
     "user": {
      "displayName": "Kahan Choksi",
      "userId": "10809218217438173912"
     },
     "user_tz": 300
    },
    "id": "mrT70nji4TlX",
    "outputId": "572d412b-4228-4ae2-f7c1-3951a87b552a"
   },
   "outputs": [],
   "source": [
    "!git clone https://github.com/KahanC/Sales-Forecasting.git"
   ]
  },
  {
   "cell_type": "code",
   "execution_count": null,
   "metadata": {
    "colab": {
     "base_uri": "https://localhost:8080/"
    },
    "executionInfo": {
     "elapsed": 47,
     "status": "ok",
     "timestamp": 1740282062417,
     "user": {
      "displayName": "Kahan Choksi",
      "userId": "10809218217438173912"
     },
     "user_tz": 300
    },
    "id": "MAZrY6W65NyE",
    "outputId": "b887422a-b51e-4ed1-cc2e-2087edf27126"
   },
   "outputs": [],
   "source": [
    "%cd Sales-Forecasting"
   ]
  },
  {
   "cell_type": "code",
   "execution_count": null,
   "metadata": {
    "colab": {
     "base_uri": "https://localhost:8080/"
    },
    "executionInfo": {
     "elapsed": 118,
     "status": "ok",
     "timestamp": 1740282073357,
     "user": {
      "displayName": "Kahan Choksi",
      "userId": "10809218217438173912"
     },
     "user_tz": 300
    },
    "id": "9DW8A5PV5QdL",
    "outputId": "427cb072-295e-4358-a09d-3d40f43eb10f"
   },
   "outputs": [],
   "source": [
    "!pwd"
   ]
  },
  {
   "cell_type": "code",
   "execution_count": null,
   "metadata": {
    "colab": {
     "base_uri": "https://localhost:8080/"
    },
    "executionInfo": {
     "elapsed": 107,
     "status": "ok",
     "timestamp": 1740282691242,
     "user": {
      "displayName": "Kahan Choksi",
      "userId": "10809218217438173912"
     },
     "user_tz": 300
    },
    "id": "BLJX2K8Y5uUs",
    "outputId": "88228174-4cd0-4fa1-e48c-a3239e2dbb5e"
   },
   "outputs": [],
   "source": [
    "!ls /content/Notebooks/ /content/drive/MyDrive/Colab Notebooks/Sales_Forecast.ipynb"
   ]
  }
 ],
 "metadata": {
  "colab": {
   "authorship_tag": "ABX9TyND9sejVvrT/HqCWpQzK+kX",
   "provenance": []
  },
  "kernelspec": {
   "display_name": "Python 3",
   "name": "python3"
  },
  "language_info": {
   "name": "python"
  }
 },
 "nbformat": 4,
 "nbformat_minor": 0
}
